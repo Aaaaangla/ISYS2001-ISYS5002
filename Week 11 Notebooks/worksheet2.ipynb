{
  "cells": [
    {
      "cell_type": "markdown",
      "metadata": {
        "id": "view-in-github",
        "colab_type": "text"
      },
      "source": [
        "<a href=\"https://colab.research.google.com/github/michael-borck/ISYS2001-ISYS5002/blob/main/Week%2011%20Notebooks/worksheet2.ipynb\" target=\"_parent\"><img src=\"https://colab.research.google.com/assets/colab-badge.svg\" alt=\"Open In Colab\"/></a>"
      ]
    },
    {
      "cell_type": "raw",
      "metadata": {
        "id": "GJld0VEyvA1M"
      },
      "source": [
        "---\n",
        "title: Advanced Exception Handling Techniques\n",
        "subtitle: Creating Resilient Python Programs\n",
        "format: jupyter-notebook\n",
        "---"
      ]
    },
    {
      "cell_type": "markdown",
      "metadata": {
        "id": "vG52kQo0vA1N"
      },
      "source": [
        "# Activity 2: Advanced Exception Handling Techniques\n",
        "\n",
        "## Learning Objectives\n",
        "- Implement multi-level exception handling for different error types\n",
        "- Use the complete try-except-else-finally structure\n",
        "- Analyze and improve code with robust exception handling\n",
        "\n",
        "## Key Concepts\n",
        "- **Exception Types:** Understanding Python's exception hierarchy\n",
        "- **Multiple Except Blocks:** Handling different types of exceptions differently\n",
        "- **Exception Chaining:** Using `try-except-else-finally` for complete error management\n",
        "- **Custom Error Messages:** Creating informative error messages for users\n",
        "\n",
        "## Review: Basic Exception Structure\n",
        "\n",
        "In the previous activity, we looked at simple exception handling:"
      ]
    },
    {
      "cell_type": "code",
      "metadata": {
        "id": "byLdx2KavA1O"
      },
      "source": [
        "try:\n",
        "    # Code that might raise an exception\n",
        "    with open('file.txt', 'r') as file:\n",
        "        content = file.read()\n",
        "except FileNotFoundError:\n",
        "    # Handle the specific error\n",
        "    print(\"File not found!\")"
      ],
      "execution_count": null,
      "outputs": []
    },
    {
      "cell_type": "markdown",
      "metadata": {
        "id": "G1FkW96QvA1O"
      },
      "source": [
        "## Advanced Exception Handling\n",
        "\n",
        "### 1. Handling Multiple Exception Types\n",
        "\n",
        "Different operations can raise different types of exceptions. We can handle them separately:"
      ]
    },
    {
      "cell_type": "code",
      "metadata": {
        "id": "J5khSGiFvA1O"
      },
      "source": [
        "try:\n",
        "    with open('data.txt', 'r') as file:\n",
        "        content = file.read()\n",
        "        number = int(content.strip())\n",
        "        result = 100 / number\n",
        "        print(f\"Result: {result}\")\n",
        "except FileNotFoundError:\n",
        "    print(\"Error: The file 'data.txt' does not exist.\")\n",
        "except ValueError:\n",
        "    print(\"Error: The file does not contain a valid number.\")\n",
        "except ZeroDivisionError:\n",
        "    print(\"Error: Cannot divide by zero.\")"
      ],
      "execution_count": null,
      "outputs": []
    },
    {
      "cell_type": "markdown",
      "metadata": {
        "id": "U5_Qp5a1vA1O"
      },
      "source": [
        "### 2. Using the `else` Clause\n",
        "\n",
        "The `else` block executes only if no exceptions were raised:"
      ]
    },
    {
      "cell_type": "code",
      "metadata": {
        "id": "sbz75gwWvA1O"
      },
      "source": [
        "try:\n",
        "    with open('data.txt', 'r') as file:\n",
        "        content = file.read()\n",
        "except FileNotFoundError:\n",
        "    print(\"File not found!\")\n",
        "else:\n",
        "    # This runs only if no exceptions occurred in the try block\n",
        "    print(f\"Successfully read {len(content)} characters from file.\")"
      ],
      "execution_count": null,
      "outputs": []
    },
    {
      "cell_type": "markdown",
      "metadata": {
        "id": "aAIpWGbvvA1O"
      },
      "source": [
        "### 3. Using the `finally` Clause\n",
        "\n",
        "The `finally` block always executes, regardless of whether an exception occurred:"
      ]
    },
    {
      "cell_type": "code",
      "metadata": {
        "id": "irJNQ-8uvA1O"
      },
      "source": [
        "try:\n",
        "    file = open('data.txt', 'r')\n",
        "    content = file.read()\n",
        "except FileNotFoundError:\n",
        "    print(\"File not found!\")\n",
        "finally:\n",
        "    # This always runs, even if an exception occurred\n",
        "    print(\"Attempt to read file completed.\")\n",
        "    # Make sure to close the file if it was opened\n",
        "    if 'file' in locals() and not file.closed:\n",
        "        file.close()"
      ],
      "execution_count": null,
      "outputs": []
    },
    {
      "cell_type": "markdown",
      "metadata": {
        "id": "F9qQrTyjvA1P"
      },
      "source": [
        "## Activity: Analyzing and Improving Code\n",
        "\n",
        "### Task 1: Identify Issues in This Code\n",
        "\n",
        "Review this function that processes a data file:"
      ]
    },
    {
      "cell_type": "code",
      "metadata": {
        "id": "7XBmXe3mvA1P"
      },
      "source": [
        "def process_data_file(filename):\n",
        "    file = open(filename, 'r')\n",
        "    lines = file.readlines()\n",
        "    numbers = [int(line.strip()) for line in lines]\n",
        "    average = sum(numbers) / len(numbers)\n",
        "    file.close()\n",
        "    return average\n",
        "\n",
        "# Test the function\n",
        "result = process_data_file('data.txt')\n",
        "print(f\"Average: {result}\")"
      ],
      "execution_count": null,
      "outputs": []
    },
    {
      "cell_type": "markdown",
      "metadata": {
        "id": "z3MlZE-TvA1P"
      },
      "source": [
        "✍️ **List all the potential errors that could occur in this code:**\n",
        "\n",
        "```\n",
        "# Your answer here\n",
        "```\n",
        "\n",
        "### Task 2: Improve the Code with Robust Exception Handling\n",
        "\n",
        "Rewrite the function to handle all the potential issues you identified:"
      ]
    },
    {
      "cell_type": "code",
      "metadata": {
        "id": "zOFAsejuvA1P"
      },
      "source": [
        "def improved_process_data_file(filename):\n",
        "    \"\"\"\n",
        "    Processes a file containing numbers and returns their average.\n",
        "    Handles various potential errors gracefully.\n",
        "\n",
        "    Args:\n",
        "        filename (str): Name of the file to process\n",
        "\n",
        "    Returns:\n",
        "        float: Average of numbers in the file, or None if processing failed\n",
        "    \"\"\"\n",
        "    # Your improved code here\n",
        "    pass"
      ],
      "execution_count": null,
      "outputs": []
    },
    {
      "cell_type": "markdown",
      "metadata": {
        "id": "Y_zV8ZTqvA1P"
      },
      "source": [
        "**💡 AI Tip:** Ask an AI to help identify potential errors: \"What exceptions might occur in this data processing code?\" Then develop your own solution based on that information.\n",
        "\n",
        "### Task 3: Testing Your Improved Function\n",
        "\n",
        "Create test cases to verify your function handles errors correctly:"
      ]
    },
    {
      "cell_type": "code",
      "metadata": {
        "id": "dmLW5GxIvA1P"
      },
      "source": [
        "# Test with a file that doesn't exist\n",
        "print(improved_process_data_file('nonexistent.txt'))\n",
        "\n",
        "# Test with a file containing non-numeric data\n",
        "# First, create a test file:\n",
        "with open('bad_data.txt', 'w') as f:\n",
        "    f.write(\"1\\n2\\nthree\\n4\\n\")\n",
        "print(improved_process_data_file('bad_data.txt'))\n",
        "\n",
        "# Test with an empty file\n",
        "with open('empty.txt', 'w') as f:\n",
        "    pass\n",
        "print(improved_process_data_file('empty.txt'))\n",
        "\n",
        "# Test with valid data\n",
        "with open('good_data.txt', 'w') as f:\n",
        "    f.write(\"10\\n20\\n30\\n40\\n\")\n",
        "print(improved_process_data_file('good_data.txt'))"
      ],
      "execution_count": null,
      "outputs": []
    },
    {
      "cell_type": "markdown",
      "metadata": {
        "id": "xVFXVStfvA1P"
      },
      "source": [
        "## Extension: Advanced Exception Techniques\n",
        "\n",
        "### Creating a Timeout Handler\n",
        "\n",
        "In real-world applications, operations sometimes take too long. Implement a function that reads a file but will \"time out\" if it takes longer than a specified number of seconds:"
      ]
    },
    {
      "cell_type": "code",
      "metadata": {
        "id": "FPvEllz1vA1P"
      },
      "source": [
        "import signal\n",
        "\n",
        "def read_file_with_timeout(filename, timeout_seconds=5):\n",
        "    \"\"\"\n",
        "    Attempts to read a file but gives up if it takes too long.\n",
        "\n",
        "    Args:\n",
        "        filename (str): The file to read\n",
        "        timeout_seconds (int): Maximum seconds to wait\n",
        "\n",
        "    Returns:\n",
        "        str: File contents or error message\n",
        "    \"\"\"\n",
        "    # Your code here\n",
        "    # Hint: Research the 'signal' module in Python\n",
        "    pass"
      ],
      "execution_count": null,
      "outputs": []
    },
    {
      "cell_type": "markdown",
      "metadata": {
        "id": "rG8Drl5CvA1P"
      },
      "source": [
        "## Reflection Questions\n",
        "\n",
        "1. How does handling specific exceptions (like `FileNotFoundError`) improve your code compared to catching all exceptions with a generic `except:` block?\n",
        "2. In what scenarios would you use the `else` clause in a try-except block?\n",
        "3. How could the exception handling techniques you've learned help make programs more user-friendly?\n",
        "4. How do these practices relate to the upcoming \"Safe Utils Module\" project?\n",
        "\n",
        "## Looking Ahead\n",
        "\n",
        "In the next activity, you'll learn to create reusable \"safe\" utility functions that encapsulate error handling. This is a key step toward our Week 11 mini-project, where you'll develop a complete module of safe utilities for file operations and data handling."
      ]
    }
  ],
  "metadata": {
    "kernelspec": {
      "display_name": "Python 3",
      "language": "python",
      "name": "python3"
    },
    "colab": {
      "provenance": [],
      "include_colab_link": true
    }
  },
  "nbformat": 4,
  "nbformat_minor": 0
}