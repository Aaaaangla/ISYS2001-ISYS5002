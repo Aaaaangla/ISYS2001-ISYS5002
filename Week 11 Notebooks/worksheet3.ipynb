{
  "cells": [
    {
      "cell_type": "markdown",
      "metadata": {
        "id": "view-in-github",
        "colab_type": "text"
      },
      "source": [
        "<a href=\"https://colab.research.google.com/github/michael-borck/ISYS2001-ISYS5002/blob/main/Week%2011%20Notebooks/worksheet3.ipynb\" target=\"_parent\"><img src=\"https://colab.research.google.com/assets/colab-badge.svg\" alt=\"Open In Colab\"/></a>"
      ]
    },
    {
      "cell_type": "raw",
      "metadata": {
        "id": "Dy0nuHVbvNMf"
      },
      "source": [
        "---\n",
        "title: Introduction to Safe Utility Functions\n",
        "subtitle: Laying the Foundation for Error-Resistant Code\n",
        "format: jupyter-notebook\n",
        "---"
      ]
    },
    {
      "cell_type": "markdown",
      "metadata": {
        "id": "ednxNb7qvNMf"
      },
      "source": [
        "# Activity 3: Introduction to Safe Utility Functions\n",
        "\n",
        "## Learning Objectives\n",
        "- Understand the concept of \"safe\" wrapper functions\n",
        "- Create a basic safe function that handles errors internally\n",
        "- Analyze the benefits and tradeoffs of error-handling strategies\n",
        "\n",
        "## Key Concepts\n",
        "- **Wrapper Functions:** Functions that add features (like safety) to existing operations\n",
        "- **Error Tolerance:** Creating code that continues to run despite encountering errors\n",
        "- **Default Return Values:** Providing sensible fallback values when operations fail\n",
        "\n",
        "## The Concept of \"Safe\" Functions\n",
        "\n",
        "In programming, a \"safe\" function is one that:\n",
        "1. Performs an operation that might fail\n",
        "2. Handles errors internally so they don't crash the program\n",
        "3. Returns a reasonable default value if the operation fails\n",
        "\n",
        "This creates a protective layer between potentially risky operations and the rest of your application.\n",
        "\n",
        "## Example: A Simple Safe Function\n",
        "\n",
        "Here's an example of a standard function compared to its \"safe\" version:\n",
        "\n",
        "### Standard Version (Unsafe)"
      ]
    },
    {
      "cell_type": "code",
      "metadata": {
        "id": "etPUpFr_vNMg"
      },
      "source": [
        "def get_value_at_index(my_list, index):\n",
        "    \"\"\"Get a value from a list at the specified index.\"\"\"\n",
        "    return my_list[index]\n",
        "\n",
        "# If the index is out of range, this will crash the program\n",
        "try:\n",
        "    value = get_value_at_index([1, 2, 3], 10)  # IndexError!\n",
        "except IndexError:\n",
        "    print(\"The program would crash here without the try-except\")"
      ],
      "execution_count": null,
      "outputs": []
    },
    {
      "cell_type": "markdown",
      "metadata": {
        "id": "seLwrOV-vNMh"
      },
      "source": [
        "### Safe Version"
      ]
    },
    {
      "cell_type": "code",
      "metadata": {
        "id": "j-uG00yevNMh"
      },
      "source": [
        "def safe_get_value_at_index(my_list, index, default=None):\n",
        "    \"\"\"\n",
        "    Safely get a value from a list at the specified index.\n",
        "    Returns default value if index is out of range.\n",
        "    \"\"\"\n",
        "    try:\n",
        "        return my_list[index]\n",
        "    except IndexError:\n",
        "        return default\n",
        "\n",
        "# This will not crash the program\n",
        "value = safe_get_value_at_index([1, 2, 3], 10)  # Returns None\n",
        "print(f\"Value: {value}\")\n",
        "\n",
        "# You can specify a different default value\n",
        "value = safe_get_value_at_index([1, 2, 3], 10, default=-1)  # Returns -1\n",
        "print(f\"Value with custom default: {value}\")"
      ],
      "execution_count": null,
      "outputs": []
    },
    {
      "cell_type": "markdown",
      "metadata": {
        "id": "Hsrv5JWIvNMh"
      },
      "source": [
        "## Activity: Creating a Basic Safe Function\n",
        "\n",
        "### Task: Create a Safe Integer Conversion Function\n",
        "\n",
        "The built-in `int()` function raises a `ValueError` if it can't convert a string to an integer. Create a safe version:"
      ]
    },
    {
      "cell_type": "code",
      "metadata": {
        "id": "4pL0abAEvNMh"
      },
      "source": [
        "def safe_int(text, default=0):\n",
        "    \"\"\"\n",
        "    Safely convert text to an integer.\n",
        "\n",
        "    Args:\n",
        "        text (str): The text to convert\n",
        "        default (int): Value to return if conversion fails\n",
        "\n",
        "    Returns:\n",
        "        int: The converted integer or the default value\n",
        "    \"\"\"\n",
        "    # Your implementation here\n",
        "    pass\n",
        "\n",
        "# Test your function\n",
        "print(safe_int(\"123\"))      # Should return: 123\n",
        "print(safe_int(\"abc\"))      # Should return: 0\n",
        "print(safe_int(\"abc\", -1))  # Should return: -1"
      ],
      "execution_count": null,
      "outputs": []
    },
    {
      "cell_type": "markdown",
      "metadata": {
        "id": "deIcIjvnvNMi"
      },
      "source": [
        "### Discussion Questions\n",
        "\n",
        "After implementing your function, consider these questions:\n",
        "\n",
        "1. How does your `safe_int` function compare to the built-in `int()` function?\n",
        "2. What are the advantages of having your function return a default value instead of raising an exception?\n",
        "3. Are there any disadvantages to hiding errors this way?\n",
        "4. In what situations might it be better to let the exception propagate instead of handling it inside the function?\n",
        "\n",
        "**💡 AI Tip:** Ask an AI: \"What are the pros and cons of silent error handling with default values versus letting exceptions propagate?\" Compare its response with your own thoughts.\n",
        "\n",
        "## Extension: Applying the Safe Function Concept\n",
        "\n",
        "Now, apply the safe function concept to one of the following:\n",
        "\n",
        "1. **safe_float()**: Create a function that safely converts text to a floating-point number\n",
        "2. **safe_divide()**: Create a function that safely divides two numbers, handling division by zero\n",
        "3. **safe_read_file()**: Create a function that safely reads a file, returning a default value if the file doesn't exist\n",
        "\n",
        "Choose ONE of these to implement:"
      ]
    },
    {
      "cell_type": "code",
      "metadata": {
        "id": "YIZnkrGqvNMi"
      },
      "source": [
        "# Your implementation of one of the extension functions here"
      ],
      "execution_count": null,
      "outputs": []
    },
    {
      "cell_type": "markdown",
      "metadata": {
        "id": "Y-HvSroqvNMi"
      },
      "source": [
        "## Reflection\n",
        "\n",
        "1. How does creating \"safe\" versions of functions improve the reliability of your code?\n",
        "2. What considerations should you make when choosing an appropriate default value?\n",
        "3. How might you apply this \"safe function\" concept to other operations in your programs?\n",
        "\n",
        "## Looking Ahead to the Mini-Project\n",
        "\n",
        "In the upcoming Week 11 mini-project, \"Building Your Safe Utils Module,\" you'll expand on this concept to create an entire module of safe utility functions. You'll develop:\n",
        "\n",
        "- Multiple safe functions for different operations (file handling, data conversion, etc.)\n",
        "- A cohesive module structure with proper documentation\n",
        "- Testing procedures to verify your functions work correctly\n",
        "\n",
        "The concept you've learned today—creating functions that gracefully handle errors and return sensible defaults—will be the foundation of that project."
      ]
    }
  ],
  "metadata": {
    "kernelspec": {
      "display_name": "Python 3",
      "language": "python",
      "name": "python3"
    },
    "colab": {
      "provenance": [],
      "include_colab_link": true
    }
  },
  "nbformat": 4,
  "nbformat_minor": 0
}